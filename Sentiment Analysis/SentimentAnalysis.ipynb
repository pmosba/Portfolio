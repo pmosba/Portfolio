{
 "cells": [
  {
   "cell_type": "code",
   "execution_count": 42,
   "metadata": {},
   "outputs": [],
   "source": [
    "#import necessary packages\n",
    "import pandas as pd\n",
    "from sklearn.feature_extraction.text import CountVectorizer\n"
   ]
  },
  {
   "cell_type": "code",
   "execution_count": 43,
   "metadata": {},
   "outputs": [],
   "source": [
    "#read/import csv as dataframe via pandas\n",
    "df=pd.read_csv('DailyComments.csv')"
   ]
  },
  {
   "cell_type": "code",
   "execution_count": 44,
   "metadata": {},
   "outputs": [
    {
     "name": "stdout",
     "output_type": "stream",
     "text": [
      "  Day of Week                                        comments\n",
      "0      Monday                             Hello, how are you?\n",
      "1     Tuesday                            Today is a good day!\n",
      "2   Wednesday  It's my birthday so it's a really special day!\n",
      "3    Thursday       Today is neither a good day or a bad day!\n",
      "4      Friday                           I'm having a bad day.\n",
      "5    Saturday       There' s nothing special happening today.\n",
      "6      Sunday                      Today is a SUPER good day!\n"
     ]
    }
   ],
   "source": [
    "#viewing data\n",
    "print(df)"
   ]
  },
  {
   "cell_type": "code",
   "execution_count": 79,
   "metadata": {},
   "outputs": [],
   "source": [
    "#importing necessary packages\n",
    "import pandas as pd\n",
    "import matplotlib.pyplot as plt\n",
    "%matplotlib inline  \n",
    "import nltk\n",
    "from nltk import word_tokenize, sent_tokenize\n",
    "from nltk.corpus import stopwords\n",
    "from nltk.stem import LancasterStemmer, WordNetLemmatizer, PorterStemmer\n",
    "from wordcloud import WordCloud, STOPWORDS\n",
    "from textblob import TextBlob"
   ]
  },
  {
   "cell_type": "code",
   "execution_count": 106,
   "metadata": {},
   "outputs": [],
   "source": [
    "#create function that applies textblob to x and returns the polarity value of the comment\n",
    "def senti(x):\n",
    "    return TextBlob(x).sentiment.polarity\n"
   ]
  },
  {
   "cell_type": "code",
   "execution_count": 115,
   "metadata": {},
   "outputs": [
    {
     "name": "stdout",
     "output_type": "stream",
     "text": [
      "0    0.000000\n",
      "1    0.875000\n",
      "2    0.446429\n",
      "3   -0.087500\n",
      "4   -0.700000\n",
      "5    0.357143\n",
      "6    0.604167\n",
      "Name: senti_score, dtype: float64\n"
     ]
    }
   ],
   "source": [
    "#create new column of df for sentiment polarity score \n",
    "df['senti_score']=df['comments'].apply(senti)\n",
    "print(df.senti_score)"
   ]
  },
  {
   "cell_type": "code",
   "execution_count": 116,
   "metadata": {},
   "outputs": [],
   "source": [
    "#creates a function that assesses values as either positive or negative (grouped neutral comments as postive)\n",
    "def score(x):\n",
    "    if x>=0:\n",
    "        return('Postive')\n",
    "    else:\n",
    "        return('Negative')"
   ]
  },
  {
   "cell_type": "code",
   "execution_count": 117,
   "metadata": {},
   "outputs": [
    {
     "name": "stderr",
     "output_type": "stream",
     "text": [
      "//anaconda3/lib/python3.7/site-packages/ipykernel_launcher.py:1: UserWarning: Pandas doesn't allow columns to be created via a new attribute name - see https://pandas.pydata.org/pandas-docs/stable/indexing.html#attribute-access\n",
      "  \"\"\"Entry point for launching an IPython kernel.\n"
     ]
    }
   ],
   "source": [
    "#applied the score function to the df.senti_score column\n",
    "df.score=df['senti_score'].apply(score)"
   ]
  },
  {
   "cell_type": "code",
   "execution_count": 118,
   "metadata": {},
   "outputs": [
    {
     "name": "stdout",
     "output_type": "stream",
     "text": [
      "0     Postive\n",
      "1     Postive\n",
      "2     Postive\n",
      "3    Negative\n",
      "4    Negative\n",
      "5     Postive\n",
      "6     Postive\n",
      "Name: senti_score, dtype: object\n"
     ]
    }
   ],
   "source": [
    "#printed the results\n",
    "print(df.score)"
   ]
  },
  {
   "cell_type": "code",
   "execution_count": null,
   "metadata": {},
   "outputs": [],
   "source": []
  }
 ],
 "metadata": {
  "kernelspec": {
   "display_name": "Python 3",
   "language": "python",
   "name": "python3"
  },
  "language_info": {
   "codemirror_mode": {
    "name": "ipython",
    "version": 3
   },
   "file_extension": ".py",
   "mimetype": "text/x-python",
   "name": "python",
   "nbconvert_exporter": "python",
   "pygments_lexer": "ipython3",
   "version": "3.7.5"
  }
 },
 "nbformat": 4,
 "nbformat_minor": 2
}
